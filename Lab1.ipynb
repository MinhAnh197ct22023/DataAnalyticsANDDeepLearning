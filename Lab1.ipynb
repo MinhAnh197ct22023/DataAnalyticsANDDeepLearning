{
  "nbformat": 4,
  "nbformat_minor": 0,
  "metadata": {
    "colab": {
      "name": "Lab1.ipynb",
      "provenance": [],
      "toc_visible": true,
      "authorship_tag": "ABX9TyPnHBQOXo1seVA7XqMyL4uL",
      "include_colab_link": true
    },
    "kernelspec": {
      "name": "python3",
      "display_name": "Python 3"
    },
    "language_info": {
      "name": "python"
    }
  },
  "cells": [
    {
      "cell_type": "markdown",
      "metadata": {
        "id": "view-in-github",
        "colab_type": "text"
      },
      "source": [
        "<a href=\"https://colab.research.google.com/github/MinhAnh197ct22023/DataAnalyticsDeepLearning/blob/main/Lab1.ipynb\" target=\"_parent\"><img src=\"https://colab.research.google.com/assets/colab-badge.svg\" alt=\"Open In Colab\"/></a>"
      ]
    },
    {
      "cell_type": "markdown",
      "metadata": {
        "id": "SqGCB9629lQt"
      },
      "source": [
        "3. Sử dụng Python để tải dữ liệu lên chương trình và in ra màn hình 10 dòng đầu tiên và 10 \n",
        "dòng cuối cùng\n"
      ]
    },
    {
      "cell_type": "code",
      "metadata": {
        "colab": {
          "base_uri": "https://localhost:8080/"
        },
        "id": "wUf9v9uI9oX8",
        "outputId": "a322040e-fca0-4611-dc23-e359fa62e756"
      },
      "source": [
        "import pandas as pd\n",
        "dulieuxettuyen = pd.read_csv(\"https://raw.githubusercontent.com/huynhhoc/DataAnalystDeepLearning/main/Data/dulieuxettuyendaihoc.csv\")\n",
        "print (dulieuxettuyen.head(10))\n"
      ],
      "execution_count": 2,
      "outputs": [
        {
          "output_type": "stream",
          "name": "stdout",
          "text": [
            "   STT   T1   L1   H1   S1   V1   X1  ...  GT  DT   KV   DH1   DH2   DH3  KT\n",
            "0    1  7.2  7.3  6.3  7.3  7.0  7.9  ...   F NaN  2NT  3.25  3.25  4.50  A1\n",
            "1    2  5.4  3.9  3.9  4.0  5.4  5.4  ...   M NaN    1  6.00  4.00  3.50   C\n",
            "2    3  5.6  6.8  7.2  7.5  4.3  7.4  ...   M NaN    1  5.00  6.75  4.00   C\n",
            "3    4  6.6  6.4  5.3  6.9  5.4  7.3  ...   M NaN    1  4.25  4.25  5.25  D1\n",
            "4    5  6.0  5.0  6.0  7.3  6.5  7.7  ...   M NaN  2NT  4.25  4.50  5.00   A\n",
            "5    6  9.3  7.6  7.9  8.6  7.0  7.3  ...   M NaN    1  1.50  4.00  6.00  D1\n",
            "6    7  2.8  3.9  5.5  6.9  5.0  7.3  ...   F NaN    2  6.50  6.75  5.25   C\n",
            "7    8  8.3  6.0  7.6  5.1  7.5  4.7  ...   F NaN    2  3.75  4.50  4.25  D1\n",
            "8    9  6.5  6.3  7.6  6.0  5.5  7.1  ...   F NaN    1  3.50  3.50  6.75  D1\n",
            "9   10  7.3  5.9  4.7  7.1  6.7  7.9  ...   F NaN    1  4.00  4.75  5.50  D1\n",
            "\n",
            "[10 rows x 56 columns]\n"
          ]
        }
      ]
    },
    {
      "cell_type": "code",
      "metadata": {
        "colab": {
          "base_uri": "https://localhost:8080/"
        },
        "id": "lgY5jXO5-oY3",
        "outputId": "9f6afeab-d566-4429-f657-50d90c9e393e"
      },
      "source": [
        "import pandas as pd\n",
        "dulieuxettuyen = pd.read_csv(\"https://raw.githubusercontent.com/huynhhoc/DataAnalystDeepLearning/main/Data/dulieuxettuyendaihoc.csv\")\n",
        "print (dulieuxettuyen.tail(10))"
      ],
      "execution_count": 6,
      "outputs": [
        {
          "output_type": "stream",
          "name": "stdout",
          "text": [
            "    STT   T1   L1   H1   S1   V1   X1  ...  GT  DT   KV   DH1   DH2   DH3  KT\n",
            "90   91  8.1  7.7  9.1  8.5  6.1  8.6  ...   M NaN    2  6.25  4.00  6.50   A\n",
            "91   92  7.8  6.5  6.7  5.4  6.2  4.8  ...   M NaN  2NT  4.75  4.75  4.50   A\n",
            "92   93  5.0  6.6  6.5  7.2  5.8  6.7  ...   M NaN    1  3.25  5.25  4.25   A\n",
            "93   94  5.2  5.2  6.8  7.9  6.6  8.9  ...   M NaN    1  3.50  4.25  5.00   A\n",
            "94   95  5.8  5.9  7.6  6.1  5.3  8.1  ...   M NaN    1  4.25  2.50  4.75   A\n",
            "95   96  8.6  6.9  7.4  8.8  7.6  5.8  ...   F NaN    1  5.25  1.50  6.25   C\n",
            "96   97  3.7  5.4  6.0  5.1  5.5  3.9  ...   F NaN    1  5.25  3.75  4.75   C\n",
            "97   98  8.8  5.5  7.4  7.7  6.2  7.3  ...   M NaN  2NT  7.00  8.00  4.00   C\n",
            "98   99  2.7  1.8  3.4  5.3  4.5  7.9  ...   M NaN    1  5.00  3.50  5.50   C\n",
            "99  100  4.1  5.2  4.9  5.3  5.5  5.4  ...   M NaN  2NT  5.25  2.50  4.25   C\n",
            "\n",
            "[10 rows x 56 columns]\n"
          ]
        }
      ]
    },
    {
      "cell_type": "markdown",
      "metadata": {
        "id": "DoZhAcYyAKTO"
      },
      "source": [
        "4. Thống kê dữ liệu thiếu cho cột dân tộc và hiệu chỉnh dữ liệu thiếu như sau: Mặc định thiếu \n",
        "thì điền giá trị 0.\n"
      ]
    },
    {
      "cell_type": "code",
      "metadata": {
        "colab": {
          "base_uri": "https://localhost:8080/"
        },
        "id": "55chjFKdGc3i",
        "outputId": "ec1329fc-e141-4f9c-b193-c66e66fe2dfb"
      },
      "source": [
        "import pandas as pd\n",
        "import numpy as np\n",
        "dulieuxettuyen = pd.read_csv(\"https://raw.githubusercontent.com/huynhhoc/DataAnalystDeepLearning/main/Data/dulieuxettuyendaihoc.csv\")\n",
        "print(dulieuxettuyen['DT'])\n",
        "dulieuxettuyen  = dulieuxettuyen .fillna('0')\n",
        "print(dulieuxettuyen)"
      ],
      "execution_count": 18,
      "outputs": [
        {
          "output_type": "stream",
          "name": "stdout",
          "text": [
            "0    NaN\n",
            "1    NaN\n",
            "2    NaN\n",
            "3    NaN\n",
            "4    NaN\n",
            "      ..\n",
            "95   NaN\n",
            "96   NaN\n",
            "97   NaN\n",
            "98   NaN\n",
            "99   NaN\n",
            "Name: DT, Length: 100, dtype: float64\n",
            "    STT   T1   L1   H1   S1   V1   X1  ...  GT  DT   KV   DH1   DH2   DH3  KT\n",
            "0     1  7.2  7.3  6.3  7.3  7.0  7.9  ...   F   0  2NT  3.25  3.25  4.50  A1\n",
            "1     2  5.4  3.9  3.9  4.0  5.4  5.4  ...   M   0    1  6.00  4.00  3.50   C\n",
            "2     3  5.6  6.8  7.2  7.5  4.3  7.4  ...   M   0    1  5.00  6.75  4.00   C\n",
            "3     4  6.6  6.4  5.3  6.9  5.4  7.3  ...   M   0    1  4.25  4.25  5.25  D1\n",
            "4     5  6.0  5.0  6.0  7.3  6.5  7.7  ...   M   0  2NT  4.25  4.50  5.00   A\n",
            "..  ...  ...  ...  ...  ...  ...  ...  ...  ..  ..  ...   ...   ...   ...  ..\n",
            "95   96  8.6  6.9  7.4  8.8  7.6  5.8  ...   F   0    1  5.25  1.50  6.25   C\n",
            "96   97  3.7  5.4  6.0  5.1  5.5  3.9  ...   F   0    1  5.25  3.75  4.75   C\n",
            "97   98  8.8  5.5  7.4  7.7  6.2  7.3  ...   M   0  2NT  7.00  8.00  4.00   C\n",
            "98   99  2.7  1.8  3.4  5.3  4.5  7.9  ...   M   0    1  5.00  3.50  5.50   C\n",
            "99  100  4.1  5.2  4.9  5.3  5.5  5.4  ...   M   0  2NT  5.25  2.50  4.25   C\n",
            "\n",
            "[100 rows x 56 columns]\n"
          ]
        }
      ]
    },
    {
      "cell_type": "markdown",
      "metadata": {
        "id": "vBPNS3BJHkkg"
      },
      "source": [
        "5.Thống kê dữ liệu thiếu cho biến T1 và hiệu chỉnh dữ liệu, lưu ý việc thay thế dữ liệu thiếu sử \n",
        "dụng phương pháp Mean\n"
      ]
    }
  ]
}